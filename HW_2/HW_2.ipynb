{
 "cells": [
  {
   "cell_type": "code",
   "execution_count": 1,
   "id": "6e48f8fc",
   "metadata": {},
   "outputs": [],
   "source": [
    "#Импортируем необходимые модули\n",
    "from pymystem3 import Mystem\n",
    "m = Mystem()\n",
    "import json\n",
    "import nltk\n",
    "import ssl\n",
    "from nltk.tokenize import word_tokenize\n",
    "from pymorphy2 import MorphAnalyzer\n",
    "morph = MorphAnalyzer()\n",
    "import collections\n",
    "from collections import Counter\n",
    "from pprint import pprint\n",
    "import os\n",
    "import time\n",
    "from datetime import datetime\n",
    "import datetime"
   ]
  },
  {
   "cell_type": "code",
   "execution_count": 2,
   "id": "d0520c89",
   "metadata": {},
   "outputs": [],
   "source": [
    "with open(\"dostoevsky.txt\", encoding=\"utf-8\") as f:\n",
    "    text = f.read()"
   ]
  },
  {
   "cell_type": "code",
   "execution_count": 3,
   "id": "2194e592",
   "metadata": {},
   "outputs": [],
   "source": [
    "m = Mystem()\n",
    "analitics = m.analyze(text)\n",
    "with open(\"mystem.json\",\"w\", encoding=\"utf-8\") as f:\n",
    "    json.dump(analitics, f)"
   ]
  },
  {
   "cell_type": "code",
   "execution_count": 4,
   "id": "d8a57221",
   "metadata": {},
   "outputs": [],
   "source": [
    "words = [w.lower() for w in word_tokenize(text) if w.isalpha()]\n",
    "morph = MorphAnalyzer()\n",
    "analize_word_list = []\n",
    "for i in words:\n",
    "    analitic_words = morph.parse(i)[0]\n",
    "    analize_word_list.append(analitic_words)\n",
    "\n",
    "lemmas = []\n",
    "for token in analize_word_list:\n",
    "    first = token[0]\n",
    "    words_dict = (token.word, (token.normal_form, token.tag.POS))\n",
    "    lemmas.append(words_dict)\n",
    "\n",
    "with open(\"pymorphy.json\", \"w\", encoding=\"utf-8\") as f:\n",
    "    json.dump(lemmas, f)"
   ]
  },
  {
   "cell_type": "code",
   "execution_count": 5,
   "id": "3831e5d0",
   "metadata": {},
   "outputs": [
    {
     "name": "stdout",
     "output_type": "stream",
     "text": [
      "PREP 9.549514181960939\n",
      "NOUN 19.2881211764321\n",
      "ADVB 8.863153073576079\n",
      "ADJF 9.15627964798639\n",
      "VERB 14.116530899335885\n",
      "CONJ 13.322864527104395\n",
      "PRCL 8.121176432099977\n",
      "NPRO 9.861615467661203\n",
      "PRED 0.5829816468740798\n",
      "INFN 2.9293028429351913\n",
      "PRTF 0.7046815192855039\n",
      "GRND 1.121470867275166\n",
      "ADJS 0.7975921745673439\n",
      "PRTS 0.26237445611280136\n",
      "COMP 0.44885006706578995\n",
      "INTJ 0.17927830667059247\n",
      "NUMR 0.597376255438872\n",
      "None 0.09683645761769227\n"
     ]
    }
   ],
   "source": [
    "POS = []\n",
    "for lemma in lemmas:\n",
    "    POS.append(lemma[1][1])\n",
    "POS = Counter(POS)\n",
    "for key, value in POS.items():\n",
    "    print(key, value / len(lemmas)*100)"
   ]
  },
  {
   "cell_type": "code",
   "execution_count": 6,
   "id": "56437a70",
   "metadata": {},
   "outputs": [
    {
     "name": "stdout",
     "output_type": "stream",
     "text": [
      "Топ-25 биграмм:\n",
      "('и', 'не')\n",
      "('да', 'и')\n",
      "('как', 'бы')\n",
      "('что', 'я')\n",
      "('что', 'он')\n",
      "('как', 'будто')\n",
      "('может', 'быть')\n",
      "('и', 'в')\n",
      "('и', 'с')\n",
      "('всё', 'это')\n",
      "('потому', 'что')\n",
      "('тотчас', 'же')\n",
      "('на', 'него')\n",
      "('и', 'что')\n",
      "('так', 'и')\n",
      "('что', 'вы')\n",
      "('катерина', 'ивановна')\n",
      "('пётр', 'петрович')\n",
      "('то', 'есть')\n",
      "('я', 'не')\n",
      "('ничего', 'не')\n",
      "('и', 'всё')\n",
      "('и', 'даже')\n",
      "('и', 'он')\n",
      "('и', 'как')\n",
      "Топ-25 триграмм:\n",
      "('по', 'крайней', 'мере')\n",
      "('до', 'сих', 'пор')\n",
      "('в', 'эту', 'минуту')\n",
      "('в', 'самом', 'деле')\n",
      "('и', 'как', 'бы')\n",
      "('в', 'то', 'же')\n",
      "('то', 'же', 'время')\n",
      "('к', 'тому', 'же')\n",
      "('на', 'этот', 'раз')\n",
      "('о', 'том', 'что')\n",
      "('в', 'том', 'что')\n",
      "('на', 'то', 'что')\n",
      "('и', 'без', 'того')\n",
      "('он', 'про', 'себя')\n",
      "('не', 'то', 'что')\n",
      "('в', 'последнее', 'время')\n",
      "('а', 'между', 'тем')\n",
      "('может', 'быть', 'и')\n",
      "('на', 'него', 'и')\n",
      "('что', 'может', 'быть')\n",
      "('и', 'тотчас', 'же')\n",
      "('ни', 'за', 'что')\n",
      "('во', 'всяком', 'случае')\n",
      "('да', 'и', 'не')\n",
      "('бы', 'то', 'ни')\n"
     ]
    }
   ],
   "source": [
    "n_gram_list = []\n",
    "for i in lemmas:\n",
    "    n_gram_list.append(i[0])\n",
    "bigrams = nltk.bigrams(n_gram_list)\n",
    "trigrams = nltk.trigrams(n_gram_list)\n",
    "bigrams_count = collections.Counter(bigrams).most_common(25)\n",
    "trigrams_count = collections.Counter(trigrams).most_common(25)\n",
    "\n",
    "print(\"Топ-25 биграмм:\")\n",
    "for i in bigrams_count:\n",
    "    print(i[0])\n",
    "\n",
    "print(\"Топ-25 триграмм:\")\n",
    "for i in trigrams_count:\n",
    "    print(i[0])"
   ]
  }
 ],
 "metadata": {
  "kernelspec": {
   "display_name": "Python 3.7.4 64-bit",
   "language": "python",
   "name": "python37464bit88dca2cf41f745a4a5d5cc241093d9a4"
  },
  "language_info": {
   "codemirror_mode": {
    "name": "ipython",
    "version": 3
   },
   "file_extension": ".py",
   "mimetype": "text/x-python",
   "name": "python",
   "nbconvert_exporter": "python",
   "pygments_lexer": "ipython3",
   "version": "3.7.9"
  }
 },
 "nbformat": 4,
 "nbformat_minor": 5
}
